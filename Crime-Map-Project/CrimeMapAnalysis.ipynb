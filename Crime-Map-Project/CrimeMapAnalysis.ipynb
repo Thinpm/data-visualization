{
  "nbformat": 4,
  "nbformat_minor": 0,
  "metadata": {
    "colab": {
      "provenance": []
    },
    "kernelspec": {
      "name": "python3",
      "display_name": "Python 3"
    },
    "language_info": {
      "name": "python"
    }
  },
  "cells": [
    {
      "cell_type": "code",
      "execution_count": null,
      "metadata": {
        "id": "bKSmUuL0_MoU"
      },
      "outputs": [],
      "source": [
        "import pandas as pd\n",
        "import folium\n",
        "from folium.plugins import MarkerCluster\n",
        "import matplotlib.pyplot as plt\n",
        "\n",
        "# Load data (update file path if necessary)\n",
        "file_path = \"/content/Police_Department_Incidents_-_Previous_Year__2016_.csv\"  # Replace with the actual file path\n",
        "df = pd.read_csv(file_path)\n",
        "\n",
        "# Select relevant columns and remove rows with missing values\n",
        "df = df[['X', 'Y', 'Category', 'IncidntNum']].dropna()\n",
        "\n",
        "# Group incidents by coordinates and category\n",
        "incident_count = df.groupby(['X', 'Y', 'Category']).size().reset_index(name='Count')\n",
        "\n",
        "# Define crime category icons\n",
        "crime_icons = {\n",
        "    'WEAPON LAWS': 'glyphicon glyphicon-fire',    # Firearm icon 🔫\n",
        "    'ASSAULT': 'glyphicon glyphicon-user',        # Assault icon 🤼\n",
        "    'BURGLARY': 'glyphicon glyphicon-home',       # Burglary icon 🏠\n",
        "    'DRUG/NARCOTIC': 'glyphicon glyphicon-plus',  # Drug-related icon 💊\n",
        "    'LARCENY/THEFT': 'glyphicon glyphicon-shopping-cart',  # Theft icon 🛒\n",
        "    'VANDALISM': 'glyphicon glyphicon-remove',    # Vandalism icon 🔨\n",
        "}\n",
        "\n",
        "# Initialize Folium map\n",
        "m = folium.Map(location=[37.77, -122.42], zoom_start=12)  # Centered at San Francisco\n",
        "\n",
        "# Create marker cluster to optimize visualization\n",
        "marker_cluster = MarkerCluster().add_to(m)\n",
        "\n",
        "# Add incident markers to the map\n",
        "for _, row in incident_count.iterrows():\n",
        "    x, y, category, count = row['X'], row['Y'], row['Category'], row['Count']\n",
        "\n",
        "    # Define marker size (scaled for visibility)\n",
        "    size = 4 + count * 0.5  # Ensures icons are neither too small nor too large\n",
        "\n",
        "    # Select appropriate icon (default if category not found)\n",
        "    icon_class = crime_icons.get(category, 'glyphicon glyphicon-exclamation-sign')\n",
        "\n",
        "    # Add marker with dynamic icon\n",
        "    folium.Marker(\n",
        "        location=[y, x],  # Latitude (Y) first, Longitude (X) second\n",
        "        popup=f\"{category} ({count} incidents)\",\n",
        "        icon=folium.Icon(color=\"red\", icon=icon_class),\n",
        "    ).add_to(marker_cluster)\n",
        "\n",
        "# Display the map\n",
        "m\n"
      ]
    }
  ]
}